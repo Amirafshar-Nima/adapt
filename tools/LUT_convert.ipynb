{
 "cells": [
  {
   "cell_type": "markdown",
   "id": "cd6c5d2a",
   "metadata": {},
   "source": [
    "## LUT convert Tool \n",
    "\n",
    " * Converting an approximate multiplier function into a C++ header\n",
    " * **Important** : Only 8bit singed multipliers are supported at the moment. So the header must be a 256x256 C-array"
   ]
  },
  {
   "cell_type": "markdown",
   "id": "3b244c09",
   "metadata": {},
   "source": [
    "## Example conversion from EvoApprox library"
   ]
  },
  {
   "cell_type": "code",
   "execution_count": null,
   "id": "7b3423bc",
   "metadata": {},
   "outputs": [],
   "source": [
    "! curl -s \"https://ehw.fit.vutbr.cz/evoapproxlib/v1.1?folder=multiplers/8x8_signed/pareto_pwr_mae&file=mul8s_1L2H.c&pyx=bash\" | bash"
   ]
  },
  {
   "cell_type": "code",
   "execution_count": null,
   "id": "f31c94be",
   "metadata": {},
   "outputs": [],
   "source": [
    "#copy here the cript from evo approx (python pyx method)\n",
    "\n",
    "import pyximport\n",
    "pyximport.install()\n",
    "import mul8s_1L2H\n",
    "\n",
    "def u2s(v): # 16b unsigned to 16b signed\n",
    "    if v & 32768:\n",
    "        return v - 65536\n",
    "    return v"
   ]
  },
  {
   "cell_type": "code",
   "execution_count": null,
   "id": "4303f975",
   "metadata": {},
   "outputs": [],
   "source": [
    "# set approximate mult function as the imported library function name\n",
    "# you can use any function that can give a result with axx_mult.mult(a,b)\n",
    "axx_mult = mul8s_1L2H"
   ]
  },
  {
   "cell_type": "code",
   "execution_count": null,
   "id": "182ee193",
   "metadata": {},
   "outputs": [],
   "source": [
    "# set number of bits of the approx mult - only 8bit signed mult is supported at the moment\n",
    "# DO NOT CHANGE\n",
    "nbits = 8"
   ]
  },
  {
   "cell_type": "code",
   "execution_count": null,
   "id": "6291a14d",
   "metadata": {},
   "outputs": [],
   "source": [
    "#run this script to write the header c file (*.h) and then move it to adapt/cpu-kernels/axx_mults\n",
    "#use the header name as the arument to adapt layers\n",
    "\n",
    "with open('mul8s_1L2H.h', 'w') as filehandle: \n",
    "    bits = int(pow(2,nbits))\n",
    "    lut_size_str = str(bits)\n",
    "\n",
    "    filehandle.write('#include <stdint.h>\\n\\n')\n",
    "    filehandle.write('const int' + str(2*nbits) + '_t lut [' + lut_size_str + '][' + lut_size_str +'] = {')       \n",
    "    \n",
    "    for i in range (0,bits//2):\n",
    "        filehandle.write('{')\n",
    "        for j in range (0,bits//2):\n",
    "            x = u2s(axx_mult.mul(i,j))\n",
    "            filehandle.write('%s' % x)\n",
    "            filehandle.write(', ')  \n",
    "        for j in range (bits//2,bits):\n",
    "            x = u2s(axx_mult.mul(i,(bits-j)*-1))\n",
    "            filehandle.write('%s' % x)\n",
    "            if j!=bits-1:\n",
    "                filehandle.write(', ') \n",
    "        filehandle.write('},')  \n",
    "        filehandle.write('\\n')\n",
    "        \n",
    "    for i in range (bits//2,bits):\n",
    "        filehandle.write('{')\n",
    "        for j in range (0,bits//2):\n",
    "            x = u2s(axx_mult.mul((bits-i)*-1,j))        \n",
    "            filehandle.write('%s' % x)\n",
    "            filehandle.write(', ')  \n",
    "        for j in range (bits//2,bits):\n",
    "            x = u2s(axx_mult.mul((bits-i),(bits-j)))\n",
    "            filehandle.write('%s' % x)\n",
    "            if j!=bits-1:\n",
    "                filehandle.write(', ')\n",
    "        if(i!=bits-1):        \n",
    "            filehandle.write('},')\n",
    "            filehandle.write('\\n')\n",
    "    filehandle.write('}};\\n')        "
   ]
  },
  {
   "cell_type": "code",
   "execution_count": null,
   "id": "1c246b1b",
   "metadata": {},
   "outputs": [],
   "source": []
  }
 ],
 "metadata": {
  "kernelspec": {
   "display_name": "Python 3 (ipykernel)",
   "language": "python",
   "name": "python3"
  },
  "language_info": {
   "codemirror_mode": {
    "name": "ipython",
    "version": 3
   },
   "file_extension": ".py",
   "mimetype": "text/x-python",
   "name": "python",
   "nbconvert_exporter": "python",
   "pygments_lexer": "ipython3",
   "version": "3.8.10"
  }
 },
 "nbformat": 4,
 "nbformat_minor": 5
}
